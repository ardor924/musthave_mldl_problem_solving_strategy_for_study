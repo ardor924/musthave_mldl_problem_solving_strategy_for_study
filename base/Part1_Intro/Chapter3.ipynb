{
 "cells": [
  {
   "cell_type": "markdown",
   "metadata": {},
   "source": [
    "# 문제해결 프로세스 및 체크리스트\n",
    "---------------------------------\n"
   ]
  },
  {
   "cell_type": "markdown",
   "metadata": {},
   "source": [
    "# 목차\n",
    "----------------------------------------------------------\n",
    "1. 학습목표\n",
    "\n",
    "2. 머신러닝\n",
    "* 2.1 머신러닝 문제해결 프로세스\n",
    "* 2.2 머신러닝 문제해결 체크리스트\n",
    "\n",
    "3. 딥러닝\n",
    "* 3.1 딥러닝 문제해결 프로세스\n",
    "* 3.2 딥러닝 문제해결 체크리스트\n",
    "----------------------------------------------------------"
   ]
  },
  {
   "cell_type": "code",
   "execution_count": null,
   "metadata": {
    "vscode": {
     "languageId": "plaintext"
    }
   },
   "outputs": [],
   "source": []
  }
 ],
 "metadata": {
  "language_info": {
   "name": "python"
  },
  "orig_nbformat": 4
 },
 "nbformat": 4,
 "nbformat_minor": 2
}
